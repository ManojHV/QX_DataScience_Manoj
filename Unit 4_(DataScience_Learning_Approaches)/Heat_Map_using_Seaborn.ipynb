{
 "cells": [
  {
   "cell_type": "code",
   "execution_count": 2,
   "metadata": {},
   "outputs": [
    {
     "data": {
      "image/png": "[encoded data removed]",
      "text/plain": [
       "<Figure size 360x360 with 2 Axes>"
      ]
     },
     "metadata": {
      "needs_background": "light"
     },
     "output_type": "display_data"
    }
   ],
   "source": [
    "# heat map\n",
    "import numpy as np\n",
    "import pandas as pd\n",
    "import matplotlib.pyplot as plt\n",
    "import seaborn as sns\n",
    "df = pd.DataFrame(dict(categorical_1=['apple', 'banana', 'grapes',\n",
    "                                      'apple', 'banana', 'grapes',\n",
    "                                      'apple', 'banana', 'grapes'], \n",
    "                  categorical_2=['A','A','A','B','B','B','C','C','C'], \n",
    "                  value=[10,2,5,7,3,15,1,6,8]))\n",
    "pivot_table = df.pivot(\"categorical_1\", \"categorical_2\", \"value\")\n",
    "# try printing out pivot_table to see what it looks like!\n",
    "fig, ax = plt.subplots(figsize=(5,5))\n",
    "sns.heatmap(data=pivot_table, \n",
    "            cmap=sns.color_palette(\"Blues\"),\n",
    "            ax=ax)\n",
    "\n",
    "plt.show()"
   ]
  },
  {
   "cell_type": "code",
   "execution_count": null,
   "metadata": {},
   "outputs": [],
   "source": []
  }
 ],
 "metadata": {
  "kernelspec": {
   "display_name": "Python 3",
   "language": "python",
   "name": "python3"
  },
  "language_info": {
   "codemirror_mode": {
    "name": "ipython",
    "version": 3
   },
   "file_extension": ".py",
   "mimetype": "text/x-python",
   "name": "python",
   "nbconvert_exporter": "python",
   "pygments_lexer": "ipython3",
   "version": "3.7.3"
  }
 },
 "nbformat": 4,
 "nbformat_minor": 2
}
