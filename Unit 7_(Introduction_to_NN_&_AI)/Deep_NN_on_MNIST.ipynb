{
 "cells": [
  {
   "cell_type": "code",
   "execution_count": 1,
   "metadata": {},
   "outputs": [
    {
     "name": "stderr",
     "output_type": "stream",
     "text": [
      "Using TensorFlow backend.\n"
     ]
    }
   ],
   "source": [
    "'''Trains a simple deep NN on the MNIST dataset.\n",
    "Gets to 98.40% test accuracy after 20 epochs\n",
    "(there is *a lot* of margin for parameter tuning).\n",
    "2 seconds per epoch on a K520 GPU.\n",
    "'''\n",
    "\n",
    "from __future__ import print_function\n",
    "\n",
    "import keras\n",
    "from keras.datasets import mnist\n",
    "from keras.models import Sequential\n",
    "from keras.layers import Dense, Dropout\n",
    "from keras.optimizers import RMSprop"
   ]
  },
  {
   "cell_type": "code",
   "execution_count": 2,
   "metadata": {},
   "outputs": [],
   "source": [
    "batch_size = 128\n",
    "num_classes = 10\n",
    "epochs = 20"
   ]
  },
  {
   "cell_type": "code",
   "execution_count": 4,
   "metadata": {},
   "outputs": [
    {
     "name": "stdout",
     "output_type": "stream",
     "text": [
      "Downloading data from https://s3.amazonaws.com/img-datasets/mnist.npz\n",
      "11493376/11490434 [==============================] - 13s 1us/step\n"
     ]
    }
   ],
   "source": [
    "# the data, split between train and test sets\n",
    "(x_train, y_train), (x_test, y_test) = mnist.load_data()"
   ]
  },
  {
   "cell_type": "code",
   "execution_count": 5,
   "metadata": {},
   "outputs": [
    {
     "name": "stdout",
     "output_type": "stream",
     "text": [
      "60000 train samples\n",
      "10000 test samples\n"
     ]
    }
   ],
   "source": [
    "x_train = x_train.reshape(60000, 784)\n",
    "x_test = x_test.reshape(10000, 784)\n",
    "x_train = x_train.astype('float32')\n",
    "x_test = x_test.astype('float32')\n",
    "x_train /= 255\n",
    "x_test /= 255\n",
    "print(x_train.shape[0], 'train samples')\n",
    "print(x_test.shape[0], 'test samples')"
   ]
  },
  {
   "cell_type": "code",
   "execution_count": 6,
   "metadata": {},
   "outputs": [],
   "source": [
    "# convert class vectors to binary class matrices\n",
    "y_train = keras.utils.to_categorical(y_train, num_classes)\n",
    "y_test = keras.utils.to_categorical(y_test, num_classes)"
   ]
  },
  {
   "cell_type": "code",
   "execution_count": 7,
   "metadata": {},
   "outputs": [],
   "source": [
    "model = Sequential()\n",
    "model.add(Dense(512, activation='relu', input_shape=(784,)))\n",
    "model.add(Dropout(0.2))\n",
    "model.add(Dense(512, activation='relu'))\n",
    "model.add(Dropout(0.2))\n",
    "model.add(Dense(num_classes, activation='softmax'))"
   ]
  },
  {
   "cell_type": "code",
   "execution_count": 8,
   "metadata": {},
   "outputs": [
    {
     "name": "stdout",
     "output_type": "stream",
     "text": [
      "Model: \"sequential_1\"\n",
      "_________________________________________________________________\n",
      "Layer (type)                 Output Shape              Param #   \n",
      "=================================================================\n",
      "dense_1 (Dense)              (None, 512)               401920    \n",
      "_________________________________________________________________\n",
      "dropout_1 (Dropout)          (None, 512)               0         \n",
      "_________________________________________________________________\n",
      "dense_2 (Dense)              (None, 512)               262656    \n",
      "_________________________________________________________________\n",
      "dropout_2 (Dropout)          (None, 512)               0         \n",
      "_________________________________________________________________\n",
      "dense_3 (Dense)              (None, 10)                5130      \n",
      "=================================================================\n",
      "Total params: 669,706\n",
      "Trainable params: 669,706\n",
      "Non-trainable params: 0\n",
      "_________________________________________________________________\n"
     ]
    }
   ],
   "source": [
    "model.summary()\n",
    "\n",
    "model.compile(loss='categorical_crossentropy',\n",
    "              optimizer=RMSprop(),\n",
    "              metrics=['accuracy'])"
   ]
  },
  {
   "cell_type": "code",
   "execution_count": 9,
   "metadata": {},
   "outputs": [
    {
     "name": "stdout",
     "output_type": "stream",
     "text": [
      "Train on 60000 samples, validate on 10000 samples\n",
      "Epoch 1/20\n",
      "60000/60000 [==============================] - 15s 255us/step - loss: 0.2458 - accuracy: 0.9242 - val_loss: 0.1091 - val_accuracy: 0.9673\n",
      "Epoch 2/20\n",
      "60000/60000 [==============================] - 14s 233us/step - loss: 0.1032 - accuracy: 0.9686 - val_loss: 0.0947 - val_accuracy: 0.9727\n",
      "Epoch 3/20\n",
      "60000/60000 [==============================] - 14s 233us/step - loss: 0.0766 - accuracy: 0.9773 - val_loss: 0.0825 - val_accuracy: 0.9774\n",
      "Epoch 4/20\n",
      "60000/60000 [==============================] - 15s 250us/step - loss: 0.0612 - accuracy: 0.9816 - val_loss: 0.0761 - val_accuracy: 0.9791\n",
      "Epoch 5/20\n",
      "60000/60000 [==============================] - 14s 231us/step - loss: 0.0512 - accuracy: 0.9847 - val_loss: 0.0765 - val_accuracy: 0.9801\n",
      "Epoch 6/20\n",
      "60000/60000 [==============================] - 14s 231us/step - loss: 0.0439 - accuracy: 0.9873 - val_loss: 0.0775 - val_accuracy: 0.9816\n",
      "Epoch 7/20\n",
      "60000/60000 [==============================] - 14s 229us/step - loss: 0.0390 - accuracy: 0.9886 - val_loss: 0.0776 - val_accuracy: 0.9813\n",
      "Epoch 8/20\n",
      "60000/60000 [==============================] - 14s 233us/step - loss: 0.0325 - accuracy: 0.9899 - val_loss: 0.0960 - val_accuracy: 0.9793\n",
      "Epoch 9/20\n",
      "60000/60000 [==============================] - 14s 230us/step - loss: 0.0319 - accuracy: 0.9908 - val_loss: 0.0953 - val_accuracy: 0.9794\n",
      "Epoch 10/20\n",
      "60000/60000 [==============================] - 14s 236us/step - loss: 0.0286 - accuracy: 0.9919 - val_loss: 0.0935 - val_accuracy: 0.9818\n",
      "Epoch 11/20\n",
      "60000/60000 [==============================] - 14s 234us/step - loss: 0.0266 - accuracy: 0.9920 - val_loss: 0.1026 - val_accuracy: 0.9817\n",
      "Epoch 12/20\n",
      "60000/60000 [==============================] - 14s 236us/step - loss: 0.0240 - accuracy: 0.9932 - val_loss: 0.1032 - val_accuracy: 0.9818\n",
      "Epoch 13/20\n",
      "60000/60000 [==============================] - 15s 244us/step - loss: 0.0223 - accuracy: 0.9939 - val_loss: 0.0948 - val_accuracy: 0.9838\n",
      "Epoch 14/20\n",
      "60000/60000 [==============================] - 14s 234us/step - loss: 0.0198 - accuracy: 0.9944 - val_loss: 0.1005 - val_accuracy: 0.9835\n",
      "Epoch 15/20\n",
      "60000/60000 [==============================] - 14s 233us/step - loss: 0.0218 - accuracy: 0.9938 - val_loss: 0.1232 - val_accuracy: 0.9804\n",
      "Epoch 16/20\n",
      "60000/60000 [==============================] - 14s 238us/step - loss: 0.0192 - accuracy: 0.9948 - val_loss: 0.1114 - val_accuracy: 0.9827\n",
      "Epoch 17/20\n",
      "60000/60000 [==============================] - 14s 234us/step - loss: 0.0194 - accuracy: 0.9946 - val_loss: 0.1230 - val_accuracy: 0.9830\n",
      "Epoch 18/20\n",
      "60000/60000 [==============================] - 14s 236us/step - loss: 0.0164 - accuracy: 0.9951 - val_loss: 0.1320 - val_accuracy: 0.9831\n",
      "Epoch 19/20\n",
      "60000/60000 [==============================] - 15s 249us/step - loss: 0.0191 - accuracy: 0.9949 - val_loss: 0.1130 - val_accuracy: 0.9844\n",
      "Epoch 20/20\n",
      "60000/60000 [==============================] - 14s 236us/step - loss: 0.0169 - accuracy: 0.9951 - val_loss: 0.1185 - val_accuracy: 0.9843\n"
     ]
    }
   ],
   "source": [
    "history = model.fit(x_train, y_train,\n",
    "                    batch_size=batch_size,\n",
    "                    epochs=epochs,\n",
    "                    verbose=1,\n",
    "                    validation_data=(x_test, y_test))\n",
    "score = model.evaluate(x_test, y_test, verbose=0)"
   ]
  },
  {
   "cell_type": "code",
   "execution_count": 10,
   "metadata": {},
   "outputs": [
    {
     "name": "stdout",
     "output_type": "stream",
     "text": [
      "Test loss: 0.11845147433334989\n",
      "Test accuracy: 0.9843000173568726\n"
     ]
    }
   ],
   "source": [
    "print('Test loss:', score[0])\n",
    "print('Test accuracy:', score[1])"
   ]
  },
  {
   "cell_type": "code",
   "execution_count": null,
   "metadata": {},
   "outputs": [],
   "source": []
  }
 ],
 "metadata": {
  "kernelspec": {
   "display_name": "Python 3",
   "language": "python",
   "name": "python3"
  },
  "language_info": {
   "codemirror_mode": {
    "name": "ipython",
    "version": 3
   },
   "file_extension": ".py",
   "mimetype": "text/x-python",
   "name": "python",
   "nbconvert_exporter": "python",
   "pygments_lexer": "ipython3",
   "version": "3.7.3"
  }
 },
 "nbformat": 4,
 "nbformat_minor": 2
}
